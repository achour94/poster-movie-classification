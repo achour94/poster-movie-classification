{
  "nbformat": 4,
  "nbformat_minor": 0,
  "metadata": {
    "colab": {
      "name": "poster_classification.ipynb",
      "provenance": [],
      "machine_shape": "hm"
    },
    "kernelspec": {
      "name": "python3",
      "display_name": "Python 3"
    },
    "accelerator": "GPU"
  },
  "cells": [
    {
      "cell_type": "code",
      "metadata": {
        "id": "9oMEs83yxRGc",
        "colab_type": "code",
        "colab": {
          "base_uri": "https://localhost:8080/",
          "height": 530
        },
        "outputId": "93533dc4-9c69-4e0b-d7f5-e35d46a6de00"
      },
      "source": [
        "!pip install tensorflow-gpu==2.0.0-rc0\n"
      ],
      "execution_count": 1,
      "outputs": [
        {
          "output_type": "stream",
          "text": [
            "Collecting tensorflow-gpu==2.0.0-rc0\n",
            "\u001b[?25l  Downloading https://files.pythonhosted.org/packages/6a/12/8c64cc62149cc21c70c55018502831bbf4d42bd62bed196df7de6830d21b/tensorflow_gpu-2.0.0rc0-cp36-cp36m-manylinux2010_x86_64.whl (380.5MB)\n",
            "\u001b[K     |████████████████████████████████| 380.5MB 41kB/s \n",
            "\u001b[?25hRequirement already satisfied: six>=1.10.0 in /usr/local/lib/python3.6/dist-packages (from tensorflow-gpu==2.0.0-rc0) (1.12.0)\n",
            "Requirement already satisfied: astor>=0.6.0 in /usr/local/lib/python3.6/dist-packages (from tensorflow-gpu==2.0.0-rc0) (0.8.1)\n",
            "Requirement already satisfied: google-pasta>=0.1.6 in /usr/local/lib/python3.6/dist-packages (from tensorflow-gpu==2.0.0-rc0) (0.1.8)\n",
            "Requirement already satisfied: termcolor>=1.1.0 in /usr/local/lib/python3.6/dist-packages (from tensorflow-gpu==2.0.0-rc0) (1.1.0)\n",
            "Requirement already satisfied: keras-applications>=1.0.8 in /usr/local/lib/python3.6/dist-packages (from tensorflow-gpu==2.0.0-rc0) (1.0.8)\n",
            "Requirement already satisfied: grpcio>=1.8.6 in /usr/local/lib/python3.6/dist-packages (from tensorflow-gpu==2.0.0-rc0) (1.15.0)\n",
            "Requirement already satisfied: opt-einsum>=2.3.2 in /usr/local/lib/python3.6/dist-packages (from tensorflow-gpu==2.0.0-rc0) (3.1.0)\n",
            "Requirement already satisfied: wheel>=0.26 in /usr/local/lib/python3.6/dist-packages (from tensorflow-gpu==2.0.0-rc0) (0.33.6)\n",
            "Requirement already satisfied: gast>=0.2.0 in /usr/local/lib/python3.6/dist-packages (from tensorflow-gpu==2.0.0-rc0) (0.2.2)\n",
            "Requirement already satisfied: protobuf>=3.6.1 in /usr/local/lib/python3.6/dist-packages (from tensorflow-gpu==2.0.0-rc0) (3.10.0)\n",
            "Requirement already satisfied: numpy<2.0,>=1.16.0 in /usr/local/lib/python3.6/dist-packages (from tensorflow-gpu==2.0.0-rc0) (1.17.4)\n",
            "Collecting tf-estimator-nightly<1.14.0.dev2019080602,>=1.14.0.dev2019080601\n",
            "\u001b[?25l  Downloading https://files.pythonhosted.org/packages/21/28/f2a27a62943d5f041e4a6fd404b2d21cb7c59b2242a4e73b03d9ba166552/tf_estimator_nightly-1.14.0.dev2019080601-py2.py3-none-any.whl (501kB)\n",
            "\u001b[K     |████████████████████████████████| 501kB 36.8MB/s \n",
            "\u001b[?25hCollecting tb-nightly<1.15.0a20190807,>=1.15.0a20190806\n",
            "\u001b[?25l  Downloading https://files.pythonhosted.org/packages/bc/88/24b5fb7280e74c7cf65bde47c171547fd02afb3840cff41bcbe9270650f5/tb_nightly-1.15.0a20190806-py3-none-any.whl (4.3MB)\n",
            "\u001b[K     |████████████████████████████████| 4.3MB 37.4MB/s \n",
            "\u001b[?25hRequirement already satisfied: wrapt>=1.11.1 in /usr/local/lib/python3.6/dist-packages (from tensorflow-gpu==2.0.0-rc0) (1.11.2)\n",
            "Requirement already satisfied: absl-py>=0.7.0 in /usr/local/lib/python3.6/dist-packages (from tensorflow-gpu==2.0.0-rc0) (0.8.1)\n",
            "Requirement already satisfied: keras-preprocessing>=1.0.5 in /usr/local/lib/python3.6/dist-packages (from tensorflow-gpu==2.0.0-rc0) (1.1.0)\n",
            "Requirement already satisfied: h5py in /usr/local/lib/python3.6/dist-packages (from keras-applications>=1.0.8->tensorflow-gpu==2.0.0-rc0) (2.8.0)\n",
            "Requirement already satisfied: setuptools in /usr/local/lib/python3.6/dist-packages (from protobuf>=3.6.1->tensorflow-gpu==2.0.0-rc0) (42.0.2)\n",
            "Requirement already satisfied: markdown>=2.6.8 in /usr/local/lib/python3.6/dist-packages (from tb-nightly<1.15.0a20190807,>=1.15.0a20190806->tensorflow-gpu==2.0.0-rc0) (3.1.1)\n",
            "Requirement already satisfied: werkzeug>=0.11.15 in /usr/local/lib/python3.6/dist-packages (from tb-nightly<1.15.0a20190807,>=1.15.0a20190806->tensorflow-gpu==2.0.0-rc0) (0.16.0)\n",
            "Installing collected packages: tf-estimator-nightly, tb-nightly, tensorflow-gpu\n",
            "Successfully installed tb-nightly-1.15.0a20190806 tensorflow-gpu-2.0.0rc0 tf-estimator-nightly-1.14.0.dev2019080601\n"
          ],
          "name": "stdout"
        }
      ]
    },
    {
      "cell_type": "code",
      "metadata": {
        "id": "5dy5qsQyxehp",
        "colab_type": "code",
        "colab": {}
      },
      "source": [
        "\n",
        "import tensorflow as tf\n",
        "from tensorflow.keras import Sequential\n",
        "from tensorflow.keras.layers import Flatten, Dense, Dropout, BatchNormalization, Conv2D, MaxPool2D\n",
        "from tensorflow.keras.optimizers import Adam\n",
        "from tensorflow.keras.preprocessing import image\n",
        "import numpy as np\n",
        "import pandas as pd\n",
        "import matplotlib.pyplot as plt\n",
        "from sklearn.model_selection import train_test_split\n",
        "from tqdm import tqdm"
      ],
      "execution_count": 0,
      "outputs": []
    },
    {
      "cell_type": "code",
      "metadata": {
        "id": "H0R4PGl3yg6f",
        "colab_type": "code",
        "colab": {
          "base_uri": "https://localhost:8080/",
          "height": 153
        },
        "outputId": "c47ea007-8f32-4408-d4a8-07c386a0f6e7"
      },
      "source": [
        "!git clone https://github.com/laxmimerit/Movies-Poster_Dataset.git"
      ],
      "execution_count": 3,
      "outputs": [
        {
          "output_type": "stream",
          "text": [
            "Cloning into 'Movies-Poster_Dataset'...\n",
            "remote: Enumerating objects: 7873, done.\u001b[K\n",
            "remote: Counting objects: 100% (7873/7873), done.\u001b[K\n",
            "remote: Compressing objects: 100% (7873/7873), done.\u001b[K\n",
            "remote: Total 7873 (delta 1), reused 7872 (delta 0), pack-reused 0\n",
            "Receiving objects: 100% (7873/7873), 246.59 MiB | 42.04 MiB/s, done.\n",
            "Resolving deltas: 100% (1/1), done.\n",
            "Checking out files: 100% (7871/7871), done.\n"
          ],
          "name": "stdout"
        }
      ]
    },
    {
      "cell_type": "code",
      "metadata": {
        "id": "zju8iwqyykqC",
        "colab_type": "code",
        "colab": {
          "base_uri": "https://localhost:8080/",
          "height": 34
        },
        "outputId": "a9d6ebdf-fd93-42ae-d998-78e9b526a1f2"
      },
      "source": [
        "\n",
        "data = pd.read_csv('/content/Movies-Poster_Dataset/train.csv')\n",
        "data.shape"
      ],
      "execution_count": 3,
      "outputs": [
        {
          "output_type": "execute_result",
          "data": {
            "text/plain": [
              "(7254, 27)"
            ]
          },
          "metadata": {
            "tags": []
          },
          "execution_count": 3
        }
      ]
    },
    {
      "cell_type": "code",
      "metadata": {
        "id": "CTm4QR1PysEE",
        "colab_type": "code",
        "colab": {
          "base_uri": "https://localhost:8080/",
          "height": 343
        },
        "outputId": "52e4c6a9-10d6-4a6c-8707-a04c176dcdd4"
      },
      "source": [
        "data.head()"
      ],
      "execution_count": 4,
      "outputs": [
        {
          "output_type": "execute_result",
          "data": {
            "text/html": [
              "<div>\n",
              "<style scoped>\n",
              "    .dataframe tbody tr th:only-of-type {\n",
              "        vertical-align: middle;\n",
              "    }\n",
              "\n",
              "    .dataframe tbody tr th {\n",
              "        vertical-align: top;\n",
              "    }\n",
              "\n",
              "    .dataframe thead th {\n",
              "        text-align: right;\n",
              "    }\n",
              "</style>\n",
              "<table border=\"1\" class=\"dataframe\">\n",
              "  <thead>\n",
              "    <tr style=\"text-align: right;\">\n",
              "      <th></th>\n",
              "      <th>Id</th>\n",
              "      <th>Genre</th>\n",
              "      <th>Action</th>\n",
              "      <th>Adventure</th>\n",
              "      <th>Animation</th>\n",
              "      <th>Biography</th>\n",
              "      <th>Comedy</th>\n",
              "      <th>Crime</th>\n",
              "      <th>Documentary</th>\n",
              "      <th>Drama</th>\n",
              "      <th>Family</th>\n",
              "      <th>Fantasy</th>\n",
              "      <th>History</th>\n",
              "      <th>Horror</th>\n",
              "      <th>Music</th>\n",
              "      <th>Musical</th>\n",
              "      <th>Mystery</th>\n",
              "      <th>N/A</th>\n",
              "      <th>News</th>\n",
              "      <th>Reality-TV</th>\n",
              "      <th>Romance</th>\n",
              "      <th>Sci-Fi</th>\n",
              "      <th>Short</th>\n",
              "      <th>Sport</th>\n",
              "      <th>Thriller</th>\n",
              "      <th>War</th>\n",
              "      <th>Western</th>\n",
              "    </tr>\n",
              "  </thead>\n",
              "  <tbody>\n",
              "    <tr>\n",
              "      <th>0</th>\n",
              "      <td>tt0086425</td>\n",
              "      <td>['Comedy', 'Drama']</td>\n",
              "      <td>0</td>\n",
              "      <td>0</td>\n",
              "      <td>0</td>\n",
              "      <td>0</td>\n",
              "      <td>1</td>\n",
              "      <td>0</td>\n",
              "      <td>0</td>\n",
              "      <td>1</td>\n",
              "      <td>0</td>\n",
              "      <td>0</td>\n",
              "      <td>0</td>\n",
              "      <td>0</td>\n",
              "      <td>0</td>\n",
              "      <td>0</td>\n",
              "      <td>0</td>\n",
              "      <td>0</td>\n",
              "      <td>0</td>\n",
              "      <td>0</td>\n",
              "      <td>0</td>\n",
              "      <td>0</td>\n",
              "      <td>0</td>\n",
              "      <td>0</td>\n",
              "      <td>0</td>\n",
              "      <td>0</td>\n",
              "      <td>0</td>\n",
              "    </tr>\n",
              "    <tr>\n",
              "      <th>1</th>\n",
              "      <td>tt0085549</td>\n",
              "      <td>['Drama', 'Romance', 'Music']</td>\n",
              "      <td>0</td>\n",
              "      <td>0</td>\n",
              "      <td>0</td>\n",
              "      <td>0</td>\n",
              "      <td>0</td>\n",
              "      <td>0</td>\n",
              "      <td>0</td>\n",
              "      <td>1</td>\n",
              "      <td>0</td>\n",
              "      <td>0</td>\n",
              "      <td>0</td>\n",
              "      <td>0</td>\n",
              "      <td>1</td>\n",
              "      <td>0</td>\n",
              "      <td>0</td>\n",
              "      <td>0</td>\n",
              "      <td>0</td>\n",
              "      <td>0</td>\n",
              "      <td>1</td>\n",
              "      <td>0</td>\n",
              "      <td>0</td>\n",
              "      <td>0</td>\n",
              "      <td>0</td>\n",
              "      <td>0</td>\n",
              "      <td>0</td>\n",
              "    </tr>\n",
              "    <tr>\n",
              "      <th>2</th>\n",
              "      <td>tt0086465</td>\n",
              "      <td>['Comedy']</td>\n",
              "      <td>0</td>\n",
              "      <td>0</td>\n",
              "      <td>0</td>\n",
              "      <td>0</td>\n",
              "      <td>1</td>\n",
              "      <td>0</td>\n",
              "      <td>0</td>\n",
              "      <td>0</td>\n",
              "      <td>0</td>\n",
              "      <td>0</td>\n",
              "      <td>0</td>\n",
              "      <td>0</td>\n",
              "      <td>0</td>\n",
              "      <td>0</td>\n",
              "      <td>0</td>\n",
              "      <td>0</td>\n",
              "      <td>0</td>\n",
              "      <td>0</td>\n",
              "      <td>0</td>\n",
              "      <td>0</td>\n",
              "      <td>0</td>\n",
              "      <td>0</td>\n",
              "      <td>0</td>\n",
              "      <td>0</td>\n",
              "      <td>0</td>\n",
              "    </tr>\n",
              "    <tr>\n",
              "      <th>3</th>\n",
              "      <td>tt0086567</td>\n",
              "      <td>['Sci-Fi', 'Thriller']</td>\n",
              "      <td>0</td>\n",
              "      <td>0</td>\n",
              "      <td>0</td>\n",
              "      <td>0</td>\n",
              "      <td>0</td>\n",
              "      <td>0</td>\n",
              "      <td>0</td>\n",
              "      <td>0</td>\n",
              "      <td>0</td>\n",
              "      <td>0</td>\n",
              "      <td>0</td>\n",
              "      <td>0</td>\n",
              "      <td>0</td>\n",
              "      <td>0</td>\n",
              "      <td>0</td>\n",
              "      <td>0</td>\n",
              "      <td>0</td>\n",
              "      <td>0</td>\n",
              "      <td>0</td>\n",
              "      <td>1</td>\n",
              "      <td>0</td>\n",
              "      <td>0</td>\n",
              "      <td>1</td>\n",
              "      <td>0</td>\n",
              "      <td>0</td>\n",
              "    </tr>\n",
              "    <tr>\n",
              "      <th>4</th>\n",
              "      <td>tt0086034</td>\n",
              "      <td>['Action', 'Adventure', 'Thriller']</td>\n",
              "      <td>1</td>\n",
              "      <td>1</td>\n",
              "      <td>0</td>\n",
              "      <td>0</td>\n",
              "      <td>0</td>\n",
              "      <td>0</td>\n",
              "      <td>0</td>\n",
              "      <td>0</td>\n",
              "      <td>0</td>\n",
              "      <td>0</td>\n",
              "      <td>0</td>\n",
              "      <td>0</td>\n",
              "      <td>0</td>\n",
              "      <td>0</td>\n",
              "      <td>0</td>\n",
              "      <td>0</td>\n",
              "      <td>0</td>\n",
              "      <td>0</td>\n",
              "      <td>0</td>\n",
              "      <td>0</td>\n",
              "      <td>0</td>\n",
              "      <td>0</td>\n",
              "      <td>1</td>\n",
              "      <td>0</td>\n",
              "      <td>0</td>\n",
              "    </tr>\n",
              "  </tbody>\n",
              "</table>\n",
              "</div>"
            ],
            "text/plain": [
              "          Id                                Genre  ...  War  Western\n",
              "0  tt0086425                  ['Comedy', 'Drama']  ...    0        0\n",
              "1  tt0085549        ['Drama', 'Romance', 'Music']  ...    0        0\n",
              "2  tt0086465                           ['Comedy']  ...    0        0\n",
              "3  tt0086567               ['Sci-Fi', 'Thriller']  ...    0        0\n",
              "4  tt0086034  ['Action', 'Adventure', 'Thriller']  ...    0        0\n",
              "\n",
              "[5 rows x 27 columns]"
            ]
          },
          "metadata": {
            "tags": []
          },
          "execution_count": 4
        }
      ]
    },
    {
      "cell_type": "code",
      "metadata": {
        "id": "s9x3SLXFyxPp",
        "colab_type": "code",
        "colab": {
          "base_uri": "https://localhost:8080/",
          "height": 34
        },
        "outputId": "96818c80-91c4-4a4e-dfec-1e38a4035214"
      },
      "source": [
        "img_width = 350\n",
        "img_height = 350\n",
        "\n",
        "X = []\n",
        "for i in tqdm(range(data.shape[0])):\n",
        "  path = '/content/Movies-Poster_Dataset/Images/' + data['Id'][i] + '.jpg'\n",
        "  img = image.load_img(path, target_size=(img_width, img_height, 3))\n",
        "  img = image.img_to_array(img)\n",
        "  img = img/255.0\n",
        "  X.append(img)\n",
        "\n",
        "X = np.array(X)"
      ],
      "execution_count": 6,
      "outputs": [
        {
          "output_type": "stream",
          "text": [
            "100%|██████████| 7254/7254 [00:34<00:00, 210.52it/s]\n"
          ],
          "name": "stderr"
        }
      ]
    },
    {
      "cell_type": "code",
      "metadata": {
        "id": "x-taUK46zE6y",
        "colab_type": "code",
        "colab": {
          "base_uri": "https://localhost:8080/",
          "height": 34
        },
        "outputId": "82120a5c-01f0-44be-bd1e-c0903b54529a"
      },
      "source": [
        "\n",
        "X.shape"
      ],
      "execution_count": 7,
      "outputs": [
        {
          "output_type": "execute_result",
          "data": {
            "text/plain": [
              "(7254, 350, 350, 3)"
            ]
          },
          "metadata": {
            "tags": []
          },
          "execution_count": 7
        }
      ]
    },
    {
      "cell_type": "code",
      "metadata": {
        "id": "K0kMGAI711x0",
        "colab_type": "code",
        "colab": {
          "base_uri": "https://localhost:8080/",
          "height": 286
        },
        "outputId": "4228a0d9-2232-497c-e02d-dbb258c61541"
      },
      "source": [
        "plt.imshow(X[1])"
      ],
      "execution_count": 8,
      "outputs": [
        {
          "output_type": "execute_result",
          "data": {
            "text/plain": [
              "<matplotlib.image.AxesImage at 0x7faece27e390>"
            ]
          },
          "metadata": {
            "tags": []
          },
          "execution_count": 8
        },
        {
          "output_type": "display_data",
          "data": {
            "image/png": "[encoded data removed]",
            "text/plain": [
              "<Figure size 432x288 with 1 Axes>"
            ]
          },
          "metadata": {
            "tags": []
          }
        }
      ]
    },
    {
      "cell_type": "code",
      "metadata": {
        "id": "wh3MSwNt15cL",
        "colab_type": "code",
        "colab": {
          "base_uri": "https://localhost:8080/",
          "height": 34
        },
        "outputId": "f4b22ae9-5179-4236-a873-5d6a1820795b"
      },
      "source": [
        "data['Genre'][1]"
      ],
      "execution_count": 9,
      "outputs": [
        {
          "output_type": "execute_result",
          "data": {
            "text/plain": [
              "\"['Drama', 'Romance', 'Music']\""
            ]
          },
          "metadata": {
            "tags": []
          },
          "execution_count": 9
        }
      ]
    },
    {
      "cell_type": "code",
      "metadata": {
        "id": "yhA65YwE2NUM",
        "colab_type": "code",
        "colab": {
          "base_uri": "https://localhost:8080/",
          "height": 34
        },
        "outputId": "9ff1d5a0-4d7b-46f3-de9a-dfd287d10924"
      },
      "source": [
        "y = data.drop(['Id', 'Genre'], axis = 1)\n",
        "y = y.to_numpy()\n",
        "y.shape"
      ],
      "execution_count": 10,
      "outputs": [
        {
          "output_type": "execute_result",
          "data": {
            "text/plain": [
              "(7254, 25)"
            ]
          },
          "metadata": {
            "tags": []
          },
          "execution_count": 10
        }
      ]
    },
    {
      "cell_type": "code",
      "metadata": {
        "id": "CyNlspH52RU3",
        "colab_type": "code",
        "colab": {}
      },
      "source": [
        "\n",
        "X_train, X_test, y_train, y_test = train_test_split(X, y, random_state = 0, test_size = 0.15)"
      ],
      "execution_count": 0,
      "outputs": []
    },
    {
      "cell_type": "code",
      "metadata": {
        "id": "Znfip1dE2Xqb",
        "colab_type": "code",
        "colab": {
          "base_uri": "https://localhost:8080/",
          "height": 34
        },
        "outputId": "a2054430-3394-42ed-dfe4-ecccd3077e72"
      },
      "source": [
        "X_train[0].shape"
      ],
      "execution_count": 12,
      "outputs": [
        {
          "output_type": "execute_result",
          "data": {
            "text/plain": [
              "(350, 350, 3)"
            ]
          },
          "metadata": {
            "tags": []
          },
          "execution_count": 12
        }
      ]
    },
    {
      "cell_type": "code",
      "metadata": {
        "id": "Hbw_wqcS25x4",
        "colab_type": "code",
        "colab": {}
      },
      "source": [
        "def SaveModelFile(ClassifyModel,save_model_filename):\n",
        "    \"\"\"\n",
        "    Saves trained classification model\n",
        "    \n",
        "    Args:\n",
        "        ClassifyModel : trained classification Model\n",
        "        save_model_filename(str): filename, to save trained model,without extension.\n",
        "        \n",
        "    Returns:\n",
        "        save_model_filename(str): filename with extension.\n",
        "    \"\"\"\n",
        "    save_model_filename = save_model_filename +'.h5'\n",
        "    ClassifyModel.save(save_model_filename)\n",
        "    print('Done Saving Model File...')\n",
        "    return save_model_filename"
      ],
      "execution_count": 0,
      "outputs": []
    },
    {
      "cell_type": "markdown",
      "metadata": {
        "id": "_bRdQduX2heV",
        "colab_type": "text"
      },
      "source": [
        "**FIRST MODEL**"
      ]
    },
    {
      "cell_type": "code",
      "metadata": {
        "id": "gF8TJoFi2cNk",
        "colab_type": "code",
        "colab": {}
      },
      "source": [
        "model = Sequential()\n",
        "model.add(Conv2D(16, (3,3), activation='relu', input_shape = X_train[0].shape))\n",
        "model.add(BatchNormalization())\n",
        "model.add(MaxPool2D(2,2))\n",
        "model.add(Dropout(0.3))\n",
        "\n",
        "model.add(Conv2D(32, (3,3), activation='relu'))\n",
        "model.add(BatchNormalization())\n",
        "model.add(MaxPool2D(2,2))\n",
        "model.add(Dropout(0.3))\n",
        "\n",
        "model.add(Conv2D(64, (3,3), activation='relu'))\n",
        "model.add(BatchNormalization())\n",
        "model.add(MaxPool2D(2,2))\n",
        "model.add(Dropout(0.4))\n",
        "\n",
        "model.add(Conv2D(128, (3,3), activation='relu'))\n",
        "model.add(BatchNormalization())\n",
        "model.add(MaxPool2D(2,2))\n",
        "model.add(Dropout(0.5))\n",
        "\n",
        "model.add(Flatten())\n",
        "\n",
        "model.add(Dense(128, activation='relu'))\n",
        "model.add(BatchNormalization())\n",
        "model.add(Dropout(0.5))\n",
        "\n",
        "\n",
        "model.add(Dense(128, activation='relu'))\n",
        "model.add(BatchNormalization())\n",
        "model.add(Dropout(0.5))\n",
        "\n",
        "\n",
        "model.add(Dense(25, activation='sigmoid'))"
      ],
      "execution_count": 0,
      "outputs": []
    },
    {
      "cell_type": "code",
      "metadata": {
        "id": "1WB0yLYb3E-Q",
        "colab_type": "code",
        "colab": {
          "base_uri": "https://localhost:8080/",
          "height": 969
        },
        "outputId": "4025c1f9-d266-4b4a-8b97-270a379487ee"
      },
      "source": [
        "model.summary()"
      ],
      "execution_count": 15,
      "outputs": [
        {
          "output_type": "stream",
          "text": [
            "Model: \"sequential\"\n",
            "_________________________________________________________________\n",
            "Layer (type)                 Output Shape              Param #   \n",
            "=================================================================\n",
            "conv2d (Conv2D)              (None, 348, 348, 16)      448       \n",
            "_________________________________________________________________\n",
            "batch_normalization (BatchNo (None, 348, 348, 16)      64        \n",
            "_________________________________________________________________\n",
            "max_pooling2d (MaxPooling2D) (None, 174, 174, 16)      0         \n",
            "_________________________________________________________________\n",
            "dropout (Dropout)            (None, 174, 174, 16)      0         \n",
            "_________________________________________________________________\n",
            "conv2d_1 (Conv2D)            (None, 172, 172, 32)      4640      \n",
            "_________________________________________________________________\n",
            "batch_normalization_1 (Batch (None, 172, 172, 32)      128       \n",
            "_________________________________________________________________\n",
            "max_pooling2d_1 (MaxPooling2 (None, 86, 86, 32)        0         \n",
            "_________________________________________________________________\n",
            "dropout_1 (Dropout)          (None, 86, 86, 32)        0         \n",
            "_________________________________________________________________\n",
            "conv2d_2 (Conv2D)            (None, 84, 84, 64)        18496     \n",
            "_________________________________________________________________\n",
            "batch_normalization_2 (Batch (None, 84, 84, 64)        256       \n",
            "_________________________________________________________________\n",
            "max_pooling2d_2 (MaxPooling2 (None, 42, 42, 64)        0         \n",
            "_________________________________________________________________\n",
            "dropout_2 (Dropout)          (None, 42, 42, 64)        0         \n",
            "_________________________________________________________________\n",
            "conv2d_3 (Conv2D)            (None, 40, 40, 128)       73856     \n",
            "_________________________________________________________________\n",
            "batch_normalization_3 (Batch (None, 40, 40, 128)       512       \n",
            "_________________________________________________________________\n",
            "max_pooling2d_3 (MaxPooling2 (None, 20, 20, 128)       0         \n",
            "_________________________________________________________________\n",
            "dropout_3 (Dropout)          (None, 20, 20, 128)       0         \n",
            "_________________________________________________________________\n",
            "flatten (Flatten)            (None, 51200)             0         \n",
            "_________________________________________________________________\n",
            "dense (Dense)                (None, 128)               6553728   \n",
            "_________________________________________________________________\n",
            "batch_normalization_4 (Batch (None, 128)               512       \n",
            "_________________________________________________________________\n",
            "dropout_4 (Dropout)          (None, 128)               0         \n",
            "_________________________________________________________________\n",
            "dense_1 (Dense)              (None, 128)               16512     \n",
            "_________________________________________________________________\n",
            "batch_normalization_5 (Batch (None, 128)               512       \n",
            "_________________________________________________________________\n",
            "dropout_5 (Dropout)          (None, 128)               0         \n",
            "_________________________________________________________________\n",
            "dense_2 (Dense)              (None, 25)                3225      \n",
            "=================================================================\n",
            "Total params: 6,672,889\n",
            "Trainable params: 6,671,897\n",
            "Non-trainable params: 992\n",
            "_________________________________________________________________\n"
          ],
          "name": "stdout"
        }
      ]
    },
    {
      "cell_type": "code",
      "metadata": {
        "id": "zN7Gq97j3IQG",
        "colab_type": "code",
        "colab": {}
      },
      "source": [
        "model.compile(optimizer='adam', loss = 'binary_crossentropy', metrics=['accuracy'])"
      ],
      "execution_count": 0,
      "outputs": []
    },
    {
      "cell_type": "code",
      "metadata": {
        "id": "i4l6BgbG3O6Z",
        "colab_type": "code",
        "colab": {
          "base_uri": "https://localhost:8080/",
          "height": 734
        },
        "outputId": "3cda0b31-f636-4705-d0a8-e40ce97e2958"
      },
      "source": [
        "history = model.fit(X_train, y_train,batch_size=32, epochs=20, validation_data=(X_test, y_test))"
      ],
      "execution_count": 18,
      "outputs": [
        {
          "output_type": "stream",
          "text": [
            "Train on 6165 samples, validate on 1089 samples\n",
            "Epoch 1/20\n",
            "6165/6165 [==============================] - 14s 2ms/sample - loss: 0.2365 - accuracy: 0.9147 - val_loss: 0.2402 - val_accuracy: 0.9122\n",
            "Epoch 2/20\n",
            "6165/6165 [==============================] - 14s 2ms/sample - loss: 0.2346 - accuracy: 0.9149 - val_loss: 0.2453 - val_accuracy: 0.9103\n",
            "Epoch 3/20\n",
            "6165/6165 [==============================] - 14s 2ms/sample - loss: 0.2346 - accuracy: 0.9149 - val_loss: 0.2404 - val_accuracy: 0.9106\n",
            "Epoch 4/20\n",
            "6165/6165 [==============================] - 14s 2ms/sample - loss: 0.2322 - accuracy: 0.9157 - val_loss: 0.2363 - val_accuracy: 0.9113\n",
            "Epoch 5/20\n",
            "6165/6165 [==============================] - 14s 2ms/sample - loss: 0.2300 - accuracy: 0.9162 - val_loss: 0.2359 - val_accuracy: 0.9125\n",
            "Epoch 6/20\n",
            "6165/6165 [==============================] - 14s 2ms/sample - loss: 0.2297 - accuracy: 0.9160 - val_loss: 0.2322 - val_accuracy: 0.9122\n",
            "Epoch 7/20\n",
            "6165/6165 [==============================] - 14s 2ms/sample - loss: 0.2279 - accuracy: 0.9167 - val_loss: 0.2319 - val_accuracy: 0.9121\n",
            "Epoch 8/20\n",
            "6165/6165 [==============================] - 14s 2ms/sample - loss: 0.2262 - accuracy: 0.9173 - val_loss: 0.2319 - val_accuracy: 0.9117\n",
            "Epoch 9/20\n",
            "6165/6165 [==============================] - 14s 2ms/sample - loss: 0.2254 - accuracy: 0.9174 - val_loss: 0.2355 - val_accuracy: 0.9117\n",
            "Epoch 10/20\n",
            "6165/6165 [==============================] - 14s 2ms/sample - loss: 0.2243 - accuracy: 0.9175 - val_loss: 0.2373 - val_accuracy: 0.9102\n",
            "Epoch 11/20\n",
            "6165/6165 [==============================] - 14s 2ms/sample - loss: 0.2225 - accuracy: 0.9175 - val_loss: 0.2310 - val_accuracy: 0.9132\n",
            "Epoch 12/20\n",
            "6165/6165 [==============================] - 14s 2ms/sample - loss: 0.2213 - accuracy: 0.9180 - val_loss: 0.2439 - val_accuracy: 0.9111\n",
            "Epoch 13/20\n",
            "6165/6165 [==============================] - 14s 2ms/sample - loss: 0.2200 - accuracy: 0.9183 - val_loss: 0.2304 - val_accuracy: 0.9150\n",
            "Epoch 14/20\n",
            "6165/6165 [==============================] - 14s 2ms/sample - loss: 0.2190 - accuracy: 0.9189 - val_loss: 0.2424 - val_accuracy: 0.9086\n",
            "Epoch 15/20\n",
            "6165/6165 [==============================] - 14s 2ms/sample - loss: 0.2177 - accuracy: 0.9193 - val_loss: 0.2338 - val_accuracy: 0.9117\n",
            "Epoch 16/20\n",
            "6165/6165 [==============================] - 14s 2ms/sample - loss: 0.2149 - accuracy: 0.9199 - val_loss: 0.2328 - val_accuracy: 0.9129\n",
            "Epoch 17/20\n",
            "6165/6165 [==============================] - 14s 2ms/sample - loss: 0.2133 - accuracy: 0.9203 - val_loss: 0.2303 - val_accuracy: 0.9136\n",
            "Epoch 18/20\n",
            "6165/6165 [==============================] - 14s 2ms/sample - loss: 0.2082 - accuracy: 0.9213 - val_loss: 0.2311 - val_accuracy: 0.9123\n",
            "Epoch 19/20\n",
            "6165/6165 [==============================] - 14s 2ms/sample - loss: 0.2057 - accuracy: 0.9223 - val_loss: 0.2357 - val_accuracy: 0.9122\n",
            "Epoch 20/20\n",
            "6165/6165 [==============================] - 14s 2ms/sample - loss: 0.2015 - accuracy: 0.9234 - val_loss: 0.2326 - val_accuracy: 0.9130\n"
          ],
          "name": "stdout"
        }
      ]
    },
    {
      "cell_type": "code",
      "metadata": {
        "id": "Q3Y_tXKI3XPV",
        "colab_type": "code",
        "colab": {
          "base_uri": "https://localhost:8080/",
          "height": 34
        },
        "outputId": "7ff59174-b617-480a-ac3e-964b7272b90f"
      },
      "source": [
        "#Save the model\n",
        "trainedModel_Filename = SaveModelFile(model,'multiLabel_firstModel')"
      ],
      "execution_count": 19,
      "outputs": [
        {
          "output_type": "stream",
          "text": [
            "Done Saving Model File...\n"
          ],
          "name": "stdout"
        }
      ]
    },
    {
      "cell_type": "code",
      "metadata": {
        "id": "MTJly4GZ5lQm",
        "colab_type": "code",
        "colab": {}
      },
      "source": [
        "\n",
        "def plot_learningCurve(history, epoch,title1, title2):\n",
        "  # Plot training & validation accuracy values\n",
        "  epoch_range = range(1, epoch+1)\n",
        "  plt.plot(epoch_range, history.history['accuracy'])\n",
        "  plt.plot(epoch_range, history.history['val_accuracy'])\n",
        "  plt.title('Model accuracy')\n",
        "  plt.ylabel('Accuracy')\n",
        "  plt.xlabel('Epoch')\n",
        "  plt.legend(['Train', 'Val'], loc='upper left')\n",
        "  plt.show()\n",
        "  plt.savefig(title1)\n",
        "\n",
        "  # Plot training & validation loss values\n",
        "  plt.plot(epoch_range, history.history['loss'])\n",
        "  plt.plot(epoch_range, history.history['val_loss'])\n",
        "  plt.title('Model loss')\n",
        "  plt.ylabel('Loss')\n",
        "  plt.xlabel('Epoch')\n",
        "  plt.legend(['Train', 'Val'], loc='upper left')\n",
        "  plt.show()\n",
        "  plt.savefig(title2)"
      ],
      "execution_count": 0,
      "outputs": []
    },
    {
      "cell_type": "code",
      "metadata": {
        "id": "OEjiNMBP6OJp",
        "colab_type": "code",
        "colab": {
          "base_uri": "https://localhost:8080/",
          "height": 590
        },
        "outputId": "37ea4d6b-3c25-4eb3-9468-0881b73658a4"
      },
      "source": [
        "plot_learningCurve(history, 20,\"accuracy_firstModel.png\",\"loss_firstModel.png\" )"
      ],
      "execution_count": 21,
      "outputs": [
        {
          "output_type": "display_data",
          "data": {
            "image/png": "[encoded data removed]",
            "text/plain": [
              "<Figure size 432x288 with 1 Axes>"
            ]
          },
          "metadata": {
            "tags": []
          }
        },
        {
          "output_type": "display_data",
          "data": {
            "image/png": "[encoded data removed]",
            "text/plain": [
              "<Figure size 432x288 with 1 Axes>"
            ]
          },
          "metadata": {
            "tags": []
          }
        },
        {
          "output_type": "display_data",
          "data": {
            "text/plain": [
              "<Figure size 432x288 with 0 Axes>"
            ]
          },
          "metadata": {
            "tags": []
          }
        }
      ]
    },
    {
      "cell_type": "markdown",
      "metadata": {
        "id": "42VlP5Rt6xGv",
        "colab_type": "text"
      },
      "source": [
        "**SECOND MODEL**"
      ]
    },
    {
      "cell_type": "code",
      "metadata": {
        "id": "n5x8WLzb9346",
        "colab_type": "code",
        "colab": {}
      },
      "source": [
        "from tensorflow.keras.preprocessing.image import ImageDataGenerator"
      ],
      "execution_count": 0,
      "outputs": []
    },
    {
      "cell_type": "code",
      "metadata": {
        "id": "MJx3IRQp6mGT",
        "colab_type": "code",
        "colab": {}
      },
      "source": [
        "model2 = Sequential()\n",
        "model2.add(Conv2D(filters = 32, kernel_size = (3,3),padding = 'Same',\n",
        "                  activation ='relu', input_shape = X_train[0].shape))\n",
        "model2.add(Conv2D(filters = 32, kernel_size = (3,3),padding = 'Same', activation ='relu'))\n",
        "    \n",
        "model2.add(MaxPool2D(pool_size=(2,2)))\n",
        "model2.add(BatchNormalization())\n",
        "model2.add(Dropout(0.25))\n",
        "\n",
        "model2.add(Conv2D(filters = 64, kernel_size = (3,3),padding = 'Same', activation ='relu'))\n",
        "model2.add(Conv2D(filters = 64, kernel_size = (3,3),padding = 'Same', activation ='relu'))\n",
        "\n",
        "model2.add(MaxPool2D(pool_size=(2,2)))\n",
        "model2.add(BatchNormalization())\n",
        "model2.add(Dropout(0.25))\n",
        "\n",
        "model2.add(Conv2D(filters = 86, kernel_size = (3,3),padding = 'Same', activation ='relu'))\n",
        "model2.add(Conv2D(filters = 86, kernel_size = (3,3),padding = 'Same', activation ='relu'))\n",
        "    \n",
        "model2.add(MaxPool2D(pool_size=(2,2)))\n",
        "model2.add(BatchNormalization())\n",
        "model2.add(Dropout(0.25))\n",
        "    \n",
        "model2.add(Flatten())\n",
        "model2.add(Dense(1024, activation = \"relu\"))\n",
        "model2.add(Dropout(0.5))\n",
        "model2.add(Dense(512, activation = \"relu\"))\n",
        "model2.add(Dropout(0.5))\n",
        "model2.add(Dense(25, activation = \"sigmoid\"))\n",
        "    \n",
        "model2.compile(loss = 'binary_crossentropy',optimizer = Adam(lr=1e-5, decay=1e-6),metrics=['accuracy'])\n",
        "    \n",
        "datagen = ImageDataGenerator(\n",
        "    featurewise_center=False,  # set input mean to 0 over the dataset\n",
        "    samplewise_center=False,  # set each sample mean to 0\n",
        "    featurewise_std_normalization=False,  # divide inputs by std of the dataset\n",
        "    samplewise_std_normalization=False,  # divide each input by its std\n",
        "    zca_whitening=False,  # apply ZCA whitening\n",
        "    rotation_range=130,  # randomly rotate images in the range (degrees, 0 to 180)\n",
        "    width_shift_range=0.5,  # randomly shift images horizontally (fraction of total width)\n",
        "    height_shift_range=0.0,  # randomly shift images vertically (fraction of total height)\n",
        "    horizontal_flip=True,  # randomly flip images\n",
        "    vertical_flip=True)  # randomly flip images\n"
      ],
      "execution_count": 0,
      "outputs": []
    },
    {
      "cell_type": "code",
      "metadata": {
        "id": "DTUV0-Po9pqT",
        "colab_type": "code",
        "colab": {
          "base_uri": "https://localhost:8080/",
          "height": 867
        },
        "outputId": "45cbd3e7-d9cc-4b65-a05c-91c1cf01122d"
      },
      "source": [
        "model2.summary()"
      ],
      "execution_count": 17,
      "outputs": [
        {
          "output_type": "stream",
          "text": [
            "Model: \"sequential\"\n",
            "_________________________________________________________________\n",
            "Layer (type)                 Output Shape              Param #   \n",
            "=================================================================\n",
            "conv2d (Conv2D)              (None, 350, 350, 32)      896       \n",
            "_________________________________________________________________\n",
            "conv2d_1 (Conv2D)            (None, 350, 350, 32)      9248      \n",
            "_________________________________________________________________\n",
            "max_pooling2d (MaxPooling2D) (None, 175, 175, 32)      0         \n",
            "_________________________________________________________________\n",
            "batch_normalization (BatchNo (None, 175, 175, 32)      128       \n",
            "_________________________________________________________________\n",
            "dropout (Dropout)            (None, 175, 175, 32)      0         \n",
            "_________________________________________________________________\n",
            "conv2d_2 (Conv2D)            (None, 175, 175, 64)      18496     \n",
            "_________________________________________________________________\n",
            "conv2d_3 (Conv2D)            (None, 175, 175, 64)      36928     \n",
            "_________________________________________________________________\n",
            "max_pooling2d_1 (MaxPooling2 (None, 87, 87, 64)        0         \n",
            "_________________________________________________________________\n",
            "batch_normalization_1 (Batch (None, 87, 87, 64)        256       \n",
            "_________________________________________________________________\n",
            "dropout_1 (Dropout)          (None, 87, 87, 64)        0         \n",
            "_________________________________________________________________\n",
            "conv2d_4 (Conv2D)            (None, 87, 87, 86)        49622     \n",
            "_________________________________________________________________\n",
            "conv2d_5 (Conv2D)            (None, 87, 87, 86)        66650     \n",
            "_________________________________________________________________\n",
            "max_pooling2d_2 (MaxPooling2 (None, 43, 43, 86)        0         \n",
            "_________________________________________________________________\n",
            "batch_normalization_2 (Batch (None, 43, 43, 86)        344       \n",
            "_________________________________________________________________\n",
            "dropout_2 (Dropout)          (None, 43, 43, 86)        0         \n",
            "_________________________________________________________________\n",
            "flatten (Flatten)            (None, 159014)            0         \n",
            "_________________________________________________________________\n",
            "dense (Dense)                (None, 1024)              162831360 \n",
            "_________________________________________________________________\n",
            "dropout_3 (Dropout)          (None, 1024)              0         \n",
            "_________________________________________________________________\n",
            "dense_1 (Dense)              (None, 512)               524800    \n",
            "_________________________________________________________________\n",
            "dropout_4 (Dropout)          (None, 512)               0         \n",
            "_________________________________________________________________\n",
            "dense_2 (Dense)              (None, 25)                12825     \n",
            "=================================================================\n",
            "Total params: 163,551,553\n",
            "Trainable params: 163,551,189\n",
            "Non-trainable params: 364\n",
            "_________________________________________________________________\n"
          ],
          "name": "stdout"
        }
      ]
    },
    {
      "cell_type": "code",
      "metadata": {
        "id": "Y_DSZdu0985m",
        "colab_type": "code",
        "colab": {
          "base_uri": "https://localhost:8080/",
          "height": 734
        },
        "outputId": "13bcc1b1-ec7b-4de8-b382-dafe6553b85a"
      },
      "source": [
        "history =model2.fit_generator(datagen.flow(X_train, y_train, batch_size=32),\n",
        "              verbose=1,\n",
        "              epochs=20,\n",
        "              validation_data=(X_test, y_test))\n",
        "#Save the model\n",
        "trainedModel_Filename = SaveModelFile(model2,'multiLabel_secondModel')\n",
        "    "
      ],
      "execution_count": 19,
      "outputs": [
        {
          "output_type": "stream",
          "text": [
            "Epoch 1/20\n",
            "193/193 [==============================] - 166s 858ms/step - loss: 0.5232 - accuracy: 0.8106 - val_loss: 0.3223 - val_accuracy: 0.9064\n",
            "Epoch 2/20\n",
            "193/193 [==============================] - 159s 824ms/step - loss: 0.4090 - accuracy: 0.8584 - val_loss: 0.2961 - val_accuracy: 0.9066\n",
            "Epoch 3/20\n",
            "193/193 [==============================] - 159s 822ms/step - loss: 0.3634 - accuracy: 0.8737 - val_loss: 0.3165 - val_accuracy: 0.9063\n",
            "Epoch 4/20\n",
            "193/193 [==============================] - 158s 821ms/step - loss: 0.3407 - accuracy: 0.8797 - val_loss: 0.2772 - val_accuracy: 0.9075\n",
            "Epoch 5/20\n",
            "193/193 [==============================] - 157s 815ms/step - loss: 0.3257 - accuracy: 0.8858 - val_loss: 0.2776 - val_accuracy: 0.9069\n",
            "Epoch 6/20\n",
            "193/193 [==============================] - 157s 813ms/step - loss: 0.3148 - accuracy: 0.8893 - val_loss: 0.2795 - val_accuracy: 0.9069\n",
            "Epoch 7/20\n",
            "193/193 [==============================] - 157s 813ms/step - loss: 0.3055 - accuracy: 0.8921 - val_loss: 0.2724 - val_accuracy: 0.9076\n",
            "Epoch 8/20\n",
            "193/193 [==============================] - 156s 808ms/step - loss: 0.2993 - accuracy: 0.8948 - val_loss: 0.2810 - val_accuracy: 0.9078\n",
            "Epoch 9/20\n",
            "193/193 [==============================] - 154s 799ms/step - loss: 0.2948 - accuracy: 0.8956 - val_loss: 0.2799 - val_accuracy: 0.9070\n",
            "Epoch 10/20\n",
            "193/193 [==============================] - 155s 804ms/step - loss: 0.2916 - accuracy: 0.8977 - val_loss: 0.2839 - val_accuracy: 0.9076\n",
            "Epoch 11/20\n",
            "193/193 [==============================] - 154s 799ms/step - loss: 0.2887 - accuracy: 0.8985 - val_loss: 0.2759 - val_accuracy: 0.9076\n",
            "Epoch 12/20\n",
            "193/193 [==============================] - 153s 792ms/step - loss: 0.2849 - accuracy: 0.8996 - val_loss: 0.2737 - val_accuracy: 0.9072\n",
            "Epoch 13/20\n",
            "193/193 [==============================] - 154s 796ms/step - loss: 0.2821 - accuracy: 0.9007 - val_loss: 0.2854 - val_accuracy: 0.9074\n",
            "Epoch 14/20\n",
            "193/193 [==============================] - 154s 797ms/step - loss: 0.2788 - accuracy: 0.9021 - val_loss: 0.2776 - val_accuracy: 0.9072\n",
            "Epoch 15/20\n",
            "193/193 [==============================] - 153s 792ms/step - loss: 0.2787 - accuracy: 0.9018 - val_loss: 0.2808 - val_accuracy: 0.9072\n",
            "Epoch 16/20\n",
            "193/193 [==============================] - 154s 797ms/step - loss: 0.2763 - accuracy: 0.9031 - val_loss: 0.2829 - val_accuracy: 0.9072\n",
            "Epoch 17/20\n",
            "193/193 [==============================] - 154s 798ms/step - loss: 0.2737 - accuracy: 0.9032 - val_loss: 0.2748 - val_accuracy: 0.9076\n",
            "Epoch 18/20\n",
            "193/193 [==============================] - 152s 790ms/step - loss: 0.2732 - accuracy: 0.9029 - val_loss: 0.2740 - val_accuracy: 0.9079\n",
            "Epoch 19/20\n",
            "193/193 [==============================] - 155s 803ms/step - loss: 0.2716 - accuracy: 0.9039 - val_loss: 0.2759 - val_accuracy: 0.9074\n",
            "Epoch 20/20\n",
            "193/193 [==============================] - 152s 790ms/step - loss: 0.2704 - accuracy: 0.9039 - val_loss: 0.2746 - val_accuracy: 0.9077\n",
            "Done Saving Model File...\n"
          ],
          "name": "stdout"
        }
      ]
    },
    {
      "cell_type": "code",
      "metadata": {
        "id": "LjddEVMN-QPa",
        "colab_type": "code",
        "colab": {
          "base_uri": "https://localhost:8080/",
          "height": 590
        },
        "outputId": "c7ee3894-1301-414c-caf8-fd1c1dfc8645"
      },
      "source": [
        "plot_learningCurve(history, 20,\"accuracy_secondModel.png\",\"loss_secondModel.png\" )"
      ],
      "execution_count": 20,
      "outputs": [
        {
          "output_type": "display_data",
          "data": {
            "image/png": "[encoded data removed]",
            "text/plain": [
              "<Figure size 432x288 with 1 Axes>"
            ]
          },
          "metadata": {
            "tags": []
          }
        },
        {
          "output_type": "display_data",
          "data": {
            "image/png": "[encoded data removed]",
            "text/plain": [
              "<Figure size 432x288 with 1 Axes>"
            ]
          },
          "metadata": {
            "tags": []
          }
        },
        {
          "output_type": "display_data",
          "data": {
            "text/plain": [
              "<Figure size 432x288 with 0 Axes>"
            ]
          },
          "metadata": {
            "tags": []
          }
        }
      ]
    },
    {
      "cell_type": "markdown",
      "metadata": {
        "id": "7d_JQoBLlv5Z",
        "colab_type": "text"
      },
      "source": [
        "**FINE TUNING**\n"
      ]
    },
    {
      "cell_type": "code",
      "metadata": {
        "id": "dHdPFPL_WsRq",
        "colab_type": "code",
        "colab": {
          "base_uri": "https://localhost:8080/",
          "height": 408
        },
        "outputId": "0a7d10c5-d4da-4dd9-b8ab-0a6563871200"
      },
      "source": [
        "from tensorflow.keras.applications.vgg16 import VGG16\n",
        "from tensorflow.keras.layers import Dense\n",
        "\n",
        "img_width = 224\n",
        "img_height = 224\n",
        "\n",
        "X = []\n",
        "for i in tqdm(range(data.shape[0])):\n",
        "  path = '/content/Movies-Poster_Dataset/Images/' + data['Id'][i] + '.jpg'\n",
        "  img = image.load_img(path, target_size=(img_width, img_height, 3))\n",
        "  img = image.img_to_array(img)\n",
        "  img = img/255.0\n",
        "  X.append(img)\n",
        "\n",
        "X = np.array(X)\n",
        "\n",
        "X_train, X_test, y_train, y_test = train_test_split(X, y, random_state = 0, test_size = 0.15)\n",
        "\n",
        "\n",
        "# Charger VGG-16 pré-entraîné sur ImageNet et sans les couches fully-connected\n",
        "\n",
        "base_model = VGG16(weights=\"imagenet\", include_top=False, input_shape=(224, 224, 3))\n",
        "model3 = Sequential()\n",
        "model3.add(base_model)\n",
        "for layer in model3.layers:\n",
        "   layer.trainable = True\n",
        "model3.add(Flatten())\n",
        "model3.add(Dense(1024, activation = \"relu\"))\n",
        "model3.add(Dropout(0.5))\n",
        "model3.add(Dense(512, activation = \"relu\"))\n",
        "model3.add(Dropout(0.5))\n",
        "model3.add(Dense(25, activation = \"sigmoid\"))\n",
        "\n",
        "\n",
        "\n",
        "model3.summary()"
      ],
      "execution_count": 24,
      "outputs": [
        {
          "output_type": "stream",
          "text": [
            "100%|██████████| 7254/7254 [00:27<00:00, 259.58it/s]\n"
          ],
          "name": "stderr"
        },
        {
          "output_type": "stream",
          "text": [
            "Model: \"sequential_3\"\n",
            "_________________________________________________________________\n",
            "Layer (type)                 Output Shape              Param #   \n",
            "=================================================================\n",
            "vgg16 (Model)                (None, 7, 7, 512)         14714688  \n",
            "_________________________________________________________________\n",
            "flatten_3 (Flatten)          (None, 25088)             0         \n",
            "_________________________________________________________________\n",
            "dense_9 (Dense)              (None, 1024)              25691136  \n",
            "_________________________________________________________________\n",
            "dropout_9 (Dropout)          (None, 1024)              0         \n",
            "_________________________________________________________________\n",
            "dense_10 (Dense)             (None, 512)               524800    \n",
            "_________________________________________________________________\n",
            "dropout_10 (Dropout)         (None, 512)               0         \n",
            "_________________________________________________________________\n",
            "dense_11 (Dense)             (None, 25)                12825     \n",
            "=================================================================\n",
            "Total params: 40,943,449\n",
            "Trainable params: 40,943,449\n",
            "Non-trainable params: 0\n",
            "_________________________________________________________________\n"
          ],
          "name": "stdout"
        }
      ]
    },
    {
      "cell_type": "code",
      "metadata": {
        "id": "mATGfQ2Zn9Az",
        "colab_type": "code",
        "colab": {}
      },
      "source": [
        "\n",
        "model3.compile(loss = 'binary_crossentropy',optimizer = Adam(lr=1e-5, decay=1e-6),metrics=['accuracy'])"
      ],
      "execution_count": 0,
      "outputs": []
    },
    {
      "cell_type": "code",
      "metadata": {
        "id": "K2EW6aWiptjS",
        "colab_type": "code",
        "colab": {
          "base_uri": "https://localhost:8080/",
          "height": 734
        },
        "outputId": "6b1c98da-452f-4718-99ab-9fb68e56db42"
      },
      "source": [
        "datagen = ImageDataGenerator(\n",
        "    featurewise_center=False,  # set input mean to 0 over the dataset\n",
        "    samplewise_center=False,  # set each sample mean to 0\n",
        "    featurewise_std_normalization=False,  # divide inputs by std of the dataset\n",
        "    samplewise_std_normalization=False,  # divide each input by its std\n",
        "    zca_whitening=False,  # apply ZCA whitening\n",
        "    rotation_range=130,  # randomly rotate images in the range (degrees, 0 to 180)\n",
        "    width_shift_range=0.5,  # randomly shift images horizontally (fraction of total width)\n",
        "    height_shift_range=0.0,  # randomly shift images vertically (fraction of total height)\n",
        "    horizontal_flip=True,  # randomly flip images\n",
        "    vertical_flip=True)  # randomly flip images\n",
        "\n",
        "history =model3.fit_generator(datagen.flow(X_train, y_train, batch_size=32),\n",
        "              verbose=1,\n",
        "              epochs=20,\n",
        "              validation_data=(X_test, y_test))\n",
        "#Save the model\n",
        "trainedModel_Filename = SaveModelFile(model2,'multiLabel_fine_tuning')\n",
        "    "
      ],
      "execution_count": 29,
      "outputs": [
        {
          "output_type": "stream",
          "text": [
            "Epoch 1/20\n",
            "193/193 [==============================] - 74s 383ms/step - loss: 0.3254 - accuracy: 0.8837 - val_loss: 0.2520 - val_accuracy: 0.9095\n",
            "Epoch 2/20\n",
            "193/193 [==============================] - 72s 374ms/step - loss: 0.2981 - accuracy: 0.8975 - val_loss: 0.2466 - val_accuracy: 0.9143\n",
            "Epoch 3/20\n",
            "193/193 [==============================] - 72s 375ms/step - loss: 0.2837 - accuracy: 0.9025 - val_loss: 0.2430 - val_accuracy: 0.9155\n",
            "Epoch 4/20\n",
            "193/193 [==============================] - 72s 373ms/step - loss: 0.2765 - accuracy: 0.9047 - val_loss: 0.2384 - val_accuracy: 0.9160\n",
            "Epoch 5/20\n",
            "193/193 [==============================] - 73s 376ms/step - loss: 0.2697 - accuracy: 0.9075 - val_loss: 0.2368 - val_accuracy: 0.9171\n",
            "Epoch 6/20\n",
            "193/193 [==============================] - 72s 373ms/step - loss: 0.2641 - accuracy: 0.9090 - val_loss: 0.2401 - val_accuracy: 0.9154\n",
            "Epoch 7/20\n",
            "193/193 [==============================] - 71s 370ms/step - loss: 0.2596 - accuracy: 0.9095 - val_loss: 0.2301 - val_accuracy: 0.9178\n",
            "Epoch 8/20\n",
            "193/193 [==============================] - 71s 368ms/step - loss: 0.2548 - accuracy: 0.9107 - val_loss: 0.2340 - val_accuracy: 0.9168\n",
            "Epoch 9/20\n",
            "193/193 [==============================] - 71s 369ms/step - loss: 0.2538 - accuracy: 0.9115 - val_loss: 0.2314 - val_accuracy: 0.9163\n",
            "Epoch 10/20\n",
            "193/193 [==============================] - 71s 369ms/step - loss: 0.2501 - accuracy: 0.9116 - val_loss: 0.2306 - val_accuracy: 0.9171\n",
            "Epoch 11/20\n",
            "193/193 [==============================] - 71s 370ms/step - loss: 0.2477 - accuracy: 0.9125 - val_loss: 0.2282 - val_accuracy: 0.9171\n",
            "Epoch 12/20\n",
            "193/193 [==============================] - 71s 368ms/step - loss: 0.2452 - accuracy: 0.9132 - val_loss: 0.2273 - val_accuracy: 0.9177\n",
            "Epoch 13/20\n",
            "193/193 [==============================] - 71s 365ms/step - loss: 0.2432 - accuracy: 0.9137 - val_loss: 0.2297 - val_accuracy: 0.9179\n",
            "Epoch 14/20\n",
            "193/193 [==============================] - 71s 369ms/step - loss: 0.2407 - accuracy: 0.9142 - val_loss: 0.2249 - val_accuracy: 0.9187\n",
            "Epoch 15/20\n",
            "193/193 [==============================] - 70s 365ms/step - loss: 0.2391 - accuracy: 0.9144 - val_loss: 0.2229 - val_accuracy: 0.9196\n",
            "Epoch 16/20\n",
            "193/193 [==============================] - 71s 366ms/step - loss: 0.2379 - accuracy: 0.9152 - val_loss: 0.2226 - val_accuracy: 0.9189\n",
            "Epoch 17/20\n",
            "193/193 [==============================] - 70s 362ms/step - loss: 0.2357 - accuracy: 0.9151 - val_loss: 0.2219 - val_accuracy: 0.9196\n",
            "Epoch 18/20\n",
            "193/193 [==============================] - 70s 365ms/step - loss: 0.2343 - accuracy: 0.9156 - val_loss: 0.2215 - val_accuracy: 0.9192\n",
            "Epoch 19/20\n",
            "193/193 [==============================] - 71s 367ms/step - loss: 0.2320 - accuracy: 0.9167 - val_loss: 0.2249 - val_accuracy: 0.9189\n",
            "Epoch 20/20\n",
            "193/193 [==============================] - 71s 369ms/step - loss: 0.2316 - accuracy: 0.9162 - val_loss: 0.2176 - val_accuracy: 0.9197\n",
            "Done Saving Model File...\n"
          ],
          "name": "stdout"
        }
      ]
    },
    {
      "cell_type": "code",
      "metadata": {
        "id": "0Zyno3Ncp0zD",
        "colab_type": "code",
        "colab": {
          "base_uri": "https://localhost:8080/",
          "height": 590
        },
        "outputId": "80bc2d66-f6b9-4cca-acc6-03074625a85d"
      },
      "source": [
        "plot_learningCurve(history, 20,\"accuracy_finetuning.png\",\"loss_finetuning.png\" )"
      ],
      "execution_count": 30,
      "outputs": [
        {
          "output_type": "display_data",
          "data": {
            "image/png": "[encoded data removed]",
            "text/plain": [
              "<Figure size 432x288 with 1 Axes>"
            ]
          },
          "metadata": {
            "tags": []
          }
        },
        {
          "output_type": "display_data",
          "data": {
            "image/png": "[encoded data removed]",
            "text/plain": [
              "<Figure size 432x288 with 1 Axes>"
            ]
          },
          "metadata": {
            "tags": []
          }
        },
        {
          "output_type": "display_data",
          "data": {
            "text/plain": [
              "<Figure size 432x288 with 0 Axes>"
            ]
          },
          "metadata": {
            "tags": []
          }
        }
      ]
    },
    {
      "cell_type": "code",
      "metadata": {
        "id": "QKq0EI6OwSxD",
        "colab_type": "code",
        "colab": {}
      },
      "source": [
        ""
      ],
      "execution_count": 0,
      "outputs": []
    }
  ]
}